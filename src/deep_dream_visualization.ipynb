{
 "cells": [
  {
   "cell_type": "code",
   "execution_count": null,
   "metadata": {},
   "outputs": [],
   "source": [
    "import inception5h\n",
    "import math\n",
    "import os\n",
    "from os import listdir\n",
    "import tensorflow as tf\n",
    "import utils\n",
    "\n",
    "from image_processing import process_and_save_img\n",
    "from IPython.core.display import HTML"
   ]
  },
  {
   "cell_type": "code",
   "execution_count": null,
   "metadata": {},
   "outputs": [],
   "source": [
    "# download deep dream model if it does not yet exist locally\n",
    "inception5h.maybe_download()"
   ]
  },
  {
   "cell_type": "code",
   "execution_count": null,
   "metadata": {},
   "outputs": [],
   "source": [
    "# load model\n",
    "model = inception5h.Inception5h()"
   ]
  },
  {
   "cell_type": "code",
   "execution_count": null,
   "metadata": {},
   "outputs": [],
   "source": [
    "# create TensorFlow session\n",
    "session = tf.InteractiveSession(graph=model.graph)"
   ]
  },
  {
   "cell_type": "code",
   "execution_count": null,
   "metadata": {},
   "outputs": [],
   "source": [
    "# available categories \n",
    "\n",
    "categories = ['streetart', 'urban', 'landscape']\n",
    "\n",
    "category = categories[1]\n",
    "\n",
    "# set up paths where to pick up images from\n",
    "# full_path = os.path.join(os.getcwd(), category)\n",
    "full_path = os.path.join(os.getcwd(),'img', category)"
   ]
  },
  {
   "cell_type": "code",
   "execution_count": null,
   "metadata": {
    "scrolled": false
   },
   "outputs": [],
   "source": [
    "files = os.listdir(full_path)"
   ]
  },
  {
   "cell_type": "code",
   "execution_count": null,
   "metadata": {},
   "outputs": [],
   "source": [
    "# reference picture you are interested in\n",
    "filename = files[0]\n",
    "\n",
    "filename_path = os.path.join(full_path, filename)\n",
    "\n",
    "\n",
    "# load input image from folder\n",
    "image = utils.load_image(filename=filename_path)\n",
    "print('The image that will be processed:', filename_path)\n",
    "utils.plot_image(image)"
   ]
  },
  {
   "cell_type": "code",
   "execution_count": null,
   "metadata": {},
   "outputs": [],
   "source": [
    "%%time\n",
    "# create path where to store output images\n",
    "output_path = full_path + '_output_' + os.path.splitext(filename)[0]\n",
    "print('The resulting images are stored to the folder:', output_path)\n",
    "\n",
    "# run the main function which processes the potential pieces of art and stores it to the output folder\n",
    "img_dict = process_and_save_img(input_name=filename, category=category, output_path=output_path, image=image, \n",
    "                     model=model, session=session)"
   ]
  },
  {
   "cell_type": "code",
   "execution_count": null,
   "metadata": {},
   "outputs": [],
   "source": [
    "HTML(\"\"\"\n",
    "<style>\n",
    "* {\n",
    "    box-sizing: border-box;\n",
    "}\n",
    "\n",
    "body {\n",
    "    margin: 0;\n",
    "    font-family: Arial;\n",
    "}\n",
    "\n",
    ".header {\n",
    "    text-align: center;\n",
    "    padding: 32px;\n",
    "}\n",
    "\n",
    "/* Create four equal columns that floats next to each other */\n",
    ".column {\n",
    "    float: left;\n",
    "    width: 25%;\n",
    "    padding: 10px;\n",
    "}\n",
    "\n",
    ".column img {\n",
    "    margin-top: 12px;\n",
    "}\n",
    "\n",
    "/* Clear floats after the columns */\n",
    ".row:after {\n",
    "    content: \"\";\n",
    "    display: table;\n",
    "    clear: both;\n",
    "}\n",
    "\n",
    "/* Responsive layout - makes a two column-layout instead of four columns */\n",
    "@media (max-width: 800px) {\n",
    "    .column {\n",
    "        width: 50%;\n",
    "    }\n",
    "}\n",
    "\n",
    "/* Responsive layout - makes the two columns stack on top of each other instead of next to each other */\n",
    "@media (max-width: 600px) {\n",
    "    .column {\n",
    "        width: 100%;\n",
    "    }\n",
    "}\n",
    "</style>\n",
    "\"\"\")"
   ]
  },
  {
   "cell_type": "code",
   "execution_count": null,
   "metadata": {},
   "outputs": [],
   "source": [
    "# define output file\n",
    "output_file = category + '_output_' + os.path.splitext(filename)[0] + '/'\n",
    "\n",
    "# define list for images with different blend parameters\n",
    "images0 = []\n",
    "images2 = []\n",
    "images4 = []\n",
    "images6 = []\n",
    "\n",
    "# get all images in directory\n",
    "for image in listdir(os.path.join('img', output_file)):\n",
    "    # store names of images with different blend parameters in subfolders\n",
    "    blend0 = []\n",
    "    blend2 = []\n",
    "    blend4 = []\n",
    "    blend6 = []\n",
    "    \n",
    "    # iterate through image dict and append to proper blend file\n",
    "    for key, value in img_dict.items():\n",
    "        if value['blend'] == 0.0:\n",
    "            blend0.append(value['filename'])\n",
    "        if value['blend'] == 0.2:\n",
    "            blend2.append(value['filename'])\n",
    "        if value['blend'] == 0.4:\n",
    "            blend4.append(value['filename'])\n",
    "        if value['blend'] == 0.6:\n",
    "            blend6.append(value['filename'])\n",
    "\n",
    "# create HTML output for the single blend parameters as separate columns\n",
    "for image in blend0:\n",
    "    img0 = '<img src=\"img/{output_file}{name}\" style=\"width:100%\">'.format(name=image, \n",
    "                                                                           output_file=output_file)\n",
    "    images0.append(img0)\n",
    "\n",
    "for image in blend2:\n",
    "    img2 = '<img src=\"img/{output_file}{name}\" style=\"width:100%\">'.format(name=image, \n",
    "                                                                           output_file=output_file)\n",
    "    images2.append(img2)\n",
    "\n",
    "for image in blend4:\n",
    "    img4 = '<img src=\"img/{output_file}{name}\" style=\"width:100%\">'.format(name=image, \n",
    "                                                                           output_file=output_file)\n",
    "    images4.append(img4)\n",
    "\n",
    "for image in blend6:\n",
    "    img6 = '<img src=\"img/{output_file}{name}\" style=\"width:100%\">'.format(name=image, \n",
    "                                                                           output_file=output_file)\n",
    "    images6.append(img6)"
   ]
  },
  {
   "cell_type": "code",
   "execution_count": null,
   "metadata": {
    "scrolled": false
   },
   "outputs": [],
   "source": [
    "# create HTML and pass images\n",
    "HTML(\"\"\"\n",
    "<div class=\"row\"> \n",
    "  <div class=\"column\">\n",
    "    {images0}\n",
    "  </div>\n",
    "  <div class=\"column\">\n",
    "    {images2}\n",
    "  </div>\n",
    "    <div class=\"column\">\n",
    "    {images4}\n",
    "  </div>\n",
    "    <div class=\"column\">\n",
    "    {images6} \n",
    "  </div>\n",
    "</div>\n",
    "\"\"\".format(images0=\"\\n\".join(images0), \n",
    "           images2=\"\\n\".join(images2), \n",
    "           images4=\"\\n\".join(images4), \n",
    "           images6=\"\\n\".join(images6), \n",
    "           images8=\"\\n\".join(images8)))"
   ]
  }
 ],
 "metadata": {
  "kernelspec": {
   "display_name": "Python 3",
   "language": "python",
   "name": "python3"
  },
  "language_info": {
   "codemirror_mode": {
    "name": "ipython",
    "version": 3
   },
   "file_extension": ".py",
   "mimetype": "text/x-python",
   "name": "python",
   "nbconvert_exporter": "python",
   "pygments_lexer": "ipython3",
   "version": "3.6.3"
  }
 },
 "nbformat": 4,
 "nbformat_minor": 2
}
